{
 "cells": [
  {
   "cell_type": "markdown",
   "metadata": {},
   "source": [
    "# Keyword Extraction with Clustering Algorithms"
   ]
  },
  {
   "cell_type": "markdown",
   "metadata": {},
   "source": [
    "This project aims to perform unsupervised keyword extraction using word embeddings and clustering algorithms. Given a piece of text, the model should output keywords/keyphrases that best capture the gist of the text."
   ]
  },
  {
   "cell_type": "markdown",
   "metadata": {},
   "source": [
    "# Related Work"
   ]
  },
  {
   "cell_type": "markdown",
   "metadata": {},
   "source": [
    "This project was inspired by [Semantic Unsupervised Automatic Keyphrases\n",
    "Extraction by Integrating Word Embedding with\n",
    "Clustering Methods](https://www.mdpi.com/2414-4088/4/2/30), written by Isabella Gagliardi and Maria Teresa Artese, published in the Multimodal Technologies and Interaction (MTI) journal in June 2020. The paper introduces a method that performs keyword extraction by combining word embeddings and clsutering algorithms, which is the exact same task that this project seeks to complete. The paper uses Kaggle's [Food.com Recipes and Interactions](https://www.kaggle.com/shuyangli94/food-com-recipes-and-user-interactions) and [FilmTV movies](https://www.kaggle.com/stefanoleone992/filmtv-movies-dataset) datasets that are in both Italian and English. Because these two languages have different syntactic rules, the paper uses different methods to extract keyword candidates from the documents. As for word embeddings, the paper uses Word2vec trained on google news, Word2vec trained on Wikipedia, and GloVe pre-trained vectors. As for clustering algorithms, the paper uses Affinity Propagation, K-Means clustering, and hierarchical clustering. These algorithms are applied to similarity matrics computed based on cosine similarity between word embeddings. For evaluation, the paper uses the Sørensen–Dice similarity coefficient to compare results obtained from the clustering algorithms to TF-IDF, TextRank, and RAKE.\n",
    "\n",
    "I originally wanted to replicate the paper's results, but because the paper contains rather vague descriptions of implementation details and that there was only a limited amount of time, I decided to make more liberal deviations/explorations. The dataset I used is the [“Arxiv NLP papers with GitHub link” dataset](https://www.kaggle.com/shujian/arxiv-nlp-papers-with-github-link) provided by [Shujian Liu](https://www.kaggle.com/shujian) on Kaggle. It contains the abstracts, Arxiv links, GitHub links, IDs, and titles of 106 Arxiv papers on Natural Language Processing (NLP). For this specific project, I used the \"abstract\" column for keywork extraction. I used fastText instead of GloVe or Word2vec because it is capable of handling out-of-vocabulary words by itself. For clustering algorithms, I used Affinity Propagation, K-Means clustering, and Mean Shift. I directly applied these algorithms to the word embeddings. For evaluation, I developed my own evaluation metric that used the SD coefficient while taking string-to-string similarity into account. I used this metric to compare the clustering algorithms against TextRank and RAKE.\n",
    "\n",
    "I have only provided an overview of the project in the previous paragraph. More details can be found in the appropriate sections below."
   ]
  },
  {
   "cell_type": "markdown",
   "metadata": {},
   "source": [
    "# Preprocessing"
   ]
  },
  {
   "cell_type": "code",
   "execution_count": 1,
   "metadata": {
    "collapsed": true
   },
   "outputs": [
    {
     "name": "stdout",
     "output_type": "stream",
     "text": [
      "Requirement already satisfied: pandas in c:\\users\\monku\\anaconda3\\envs\\python3-8\\lib\\site-packages (1.0.5)\n",
      "Requirement already satisfied: python-dateutil>=2.6.1 in c:\\users\\monku\\anaconda3\\envs\\python3-8\\lib\\site-packages (from pandas) (2.8.1)\n",
      "Requirement already satisfied: pytz>=2017.2 in c:\\users\\monku\\anaconda3\\envs\\python3-8\\lib\\site-packages (from pandas) (2020.1)\n",
      "Requirement already satisfied: numpy>=1.13.3 in c:\\users\\monku\\anaconda3\\envs\\python3-8\\lib\\site-packages (from pandas) (1.19.1)\n",
      "Requirement already satisfied: six>=1.5 in c:\\users\\monku\\anaconda3\\envs\\python3-8\\lib\\site-packages (from python-dateutil>=2.6.1->pandas) (1.15.0)\n",
      "Requirement already satisfied: sklearn in c:\\users\\monku\\anaconda3\\envs\\python3-8\\lib\\site-packages (0.0)\n",
      "Requirement already satisfied: scikit-learn in c:\\users\\monku\\anaconda3\\envs\\python3-8\\lib\\site-packages (from sklearn) (0.23.2)\n",
      "Requirement already satisfied: scipy>=0.19.1 in c:\\users\\monku\\anaconda3\\envs\\python3-8\\lib\\site-packages (from scikit-learn->sklearn) (1.5.0)\n",
      "Requirement already satisfied: numpy>=1.13.3 in c:\\users\\monku\\anaconda3\\envs\\python3-8\\lib\\site-packages (from scikit-learn->sklearn) (1.19.1)\n",
      "Requirement already satisfied: joblib>=0.11 in c:\\users\\monku\\anaconda3\\envs\\python3-8\\lib\\site-packages (from scikit-learn->sklearn) (0.16.0)\n",
      "Requirement already satisfied: threadpoolctl>=2.0.0 in c:\\users\\monku\\anaconda3\\envs\\python3-8\\lib\\site-packages (from scikit-learn->sklearn) (2.1.0)\n",
      "Requirement already satisfied: gensim in c:\\users\\monku\\anaconda3\\envs\\python3-8\\lib\\site-packages (3.8.3)\n",
      "Requirement already satisfied: smart-open>=1.8.1 in c:\\users\\monku\\anaconda3\\envs\\python3-8\\lib\\site-packages (from gensim) (4.0.1)\n",
      "Requirement already satisfied: six>=1.5.0 in c:\\users\\monku\\anaconda3\\envs\\python3-8\\lib\\site-packages (from gensim) (1.15.0)\n",
      "Requirement already satisfied: Cython==0.29.14 in c:\\users\\monku\\anaconda3\\envs\\python3-8\\lib\\site-packages (from gensim) (0.29.14)\n",
      "Requirement already satisfied: numpy>=1.11.3 in c:\\users\\monku\\anaconda3\\envs\\python3-8\\lib\\site-packages (from gensim) (1.19.1)\n",
      "Requirement already satisfied: scipy>=0.18.1 in c:\\users\\monku\\anaconda3\\envs\\python3-8\\lib\\site-packages (from gensim) (1.5.0)\n",
      "Requirement already satisfied: textblob in c:\\users\\monku\\anaconda3\\envs\\python3-8\\lib\\site-packages (0.15.3)\n",
      "Requirement already satisfied: nltk>=3.1 in c:\\users\\monku\\anaconda3\\envs\\python3-8\\lib\\site-packages (from textblob) (3.5)\n",
      "Requirement already satisfied: joblib in c:\\users\\monku\\anaconda3\\envs\\python3-8\\lib\\site-packages (from nltk>=3.1->textblob) (0.16.0)\n",
      "Requirement already satisfied: tqdm in c:\\users\\monku\\anaconda3\\envs\\python3-8\\lib\\site-packages (from nltk>=3.1->textblob) (4.50.2)\n",
      "Requirement already satisfied: regex in c:\\users\\monku\\anaconda3\\envs\\python3-8\\lib\\site-packages (from nltk>=3.1->textblob) (2020.10.15)\n",
      "Requirement already satisfied: click in c:\\users\\monku\\anaconda3\\envs\\python3-8\\lib\\site-packages (from nltk>=3.1->textblob) (7.1.2)\n",
      "Requirement already satisfied: nltk in c:\\users\\monku\\anaconda3\\envs\\python3-8\\lib\\site-packages (3.5)\n",
      "Requirement already satisfied: tqdm in c:\\users\\monku\\anaconda3\\envs\\python3-8\\lib\\site-packages (from nltk) (4.50.2)\n",
      "Requirement already satisfied: joblib in c:\\users\\monku\\anaconda3\\envs\\python3-8\\lib\\site-packages (from nltk) (0.16.0)\n",
      "Requirement already satisfied: regex in c:\\users\\monku\\anaconda3\\envs\\python3-8\\lib\\site-packages (from nltk) (2020.10.15)\n",
      "Requirement already satisfied: click in c:\\users\\monku\\anaconda3\\envs\\python3-8\\lib\\site-packages (from nltk) (7.1.2)\n",
      "Requirement already satisfied: spacy in c:\\users\\monku\\anaconda3\\envs\\python3-8\\lib\\site-packages (2.3.2)\n",
      "Requirement already satisfied: plac<1.2.0,>=0.9.6 in c:\\users\\monku\\anaconda3\\envs\\python3-8\\lib\\site-packages (from spacy) (1.1.3)\n",
      "Requirement already satisfied: numpy>=1.15.0 in c:\\users\\monku\\anaconda3\\envs\\python3-8\\lib\\site-packages (from spacy) (1.19.1)\n",
      "Requirement already satisfied: setuptools in c:\\users\\monku\\anaconda3\\envs\\python3-8\\lib\\site-packages (from spacy) (49.2.0.post20200714)\n",
      "Requirement already satisfied: srsly<1.1.0,>=1.0.2 in c:\\users\\monku\\anaconda3\\envs\\python3-8\\lib\\site-packages (from spacy) (1.0.4)\n",
      "Requirement already satisfied: preshed<3.1.0,>=3.0.2 in c:\\users\\monku\\anaconda3\\envs\\python3-8\\lib\\site-packages (from spacy) (3.0.4)\n",
      "Requirement already satisfied: cymem<2.1.0,>=2.0.2 in c:\\users\\monku\\anaconda3\\envs\\python3-8\\lib\\site-packages (from spacy) (2.0.4)\n",
      "Requirement already satisfied: tqdm<5.0.0,>=4.38.0 in c:\\users\\monku\\anaconda3\\envs\\python3-8\\lib\\site-packages (from spacy) (4.50.2)\n",
      "Requirement already satisfied: thinc==7.4.1 in c:\\users\\monku\\anaconda3\\envs\\python3-8\\lib\\site-packages (from spacy) (7.4.1)\n",
      "Requirement already satisfied: murmurhash<1.1.0,>=0.28.0 in c:\\users\\monku\\anaconda3\\envs\\python3-8\\lib\\site-packages (from spacy) (1.0.4)\n",
      "Requirement already satisfied: requests<3.0.0,>=2.13.0 in c:\\users\\monku\\anaconda3\\envs\\python3-8\\lib\\site-packages (from spacy) (2.24.0)\n",
      "Requirement already satisfied: wasabi<1.1.0,>=0.4.0 in c:\\users\\monku\\anaconda3\\envs\\python3-8\\lib\\site-packages (from spacy) (0.8.0)\n",
      "Requirement already satisfied: blis<0.5.0,>=0.4.0 in c:\\users\\monku\\anaconda3\\envs\\python3-8\\lib\\site-packages (from spacy) (0.4.1)\n",
      "Requirement already satisfied: catalogue<1.1.0,>=0.0.7 in c:\\users\\monku\\anaconda3\\envs\\python3-8\\lib\\site-packages (from spacy) (1.0.0)\n",
      "Requirement already satisfied: chardet<4,>=3.0.2 in c:\\users\\monku\\anaconda3\\envs\\python3-8\\lib\\site-packages (from requests<3.0.0,>=2.13.0->spacy) (3.0.4)\n",
      "Requirement already satisfied: idna<3,>=2.5 in c:\\users\\monku\\anaconda3\\envs\\python3-8\\lib\\site-packages (from requests<3.0.0,>=2.13.0->spacy) (2.10)\n",
      "Requirement already satisfied: urllib3!=1.25.0,!=1.25.1,<1.26,>=1.21.1 in c:\\users\\monku\\anaconda3\\envs\\python3-8\\lib\\site-packages (from requests<3.0.0,>=2.13.0->spacy) (1.25.9)\n",
      "Requirement already satisfied: certifi>=2017.4.17 in c:\\users\\monku\\anaconda3\\envs\\python3-8\\lib\\site-packages (from requests<3.0.0,>=2.13.0->spacy) (2020.6.20)\n",
      "Requirement already satisfied: en_core_web_sm==2.3.1 from https://github.com/explosion/spacy-models/releases/download/en_core_web_sm-2.3.1/en_core_web_sm-2.3.1.tar.gz#egg=en_core_web_sm==2.3.1 in c:\\users\\monku\\anaconda3\\envs\\python3-8\\lib\\site-packages (2.3.1)\n",
      "Requirement already satisfied: spacy<2.4.0,>=2.3.0 in c:\\users\\monku\\anaconda3\\envs\\python3-8\\lib\\site-packages (from en_core_web_sm==2.3.1) (2.3.2)\n",
      "Requirement already satisfied: setuptools in c:\\users\\monku\\anaconda3\\envs\\python3-8\\lib\\site-packages (from spacy<2.4.0,>=2.3.0->en_core_web_sm==2.3.1) (49.2.0.post20200714)\n",
      "Requirement already satisfied: requests<3.0.0,>=2.13.0 in c:\\users\\monku\\anaconda3\\envs\\python3-8\\lib\\site-packages (from spacy<2.4.0,>=2.3.0->en_core_web_sm==2.3.1) (2.24.0)\n",
      "Requirement already satisfied: blis<0.5.0,>=0.4.0 in c:\\users\\monku\\anaconda3\\envs\\python3-8\\lib\\site-packages (from spacy<2.4.0,>=2.3.0->en_core_web_sm==2.3.1) (0.4.1)\n",
      "Requirement already satisfied: wasabi<1.1.0,>=0.4.0 in c:\\users\\monku\\anaconda3\\envs\\python3-8\\lib\\site-packages (from spacy<2.4.0,>=2.3.0->en_core_web_sm==2.3.1) (0.8.0)\n",
      "Requirement already satisfied: numpy>=1.15.0 in c:\\users\\monku\\anaconda3\\envs\\python3-8\\lib\\site-packages (from spacy<2.4.0,>=2.3.0->en_core_web_sm==2.3.1) (1.19.1)\n",
      "Requirement already satisfied: plac<1.2.0,>=0.9.6 in c:\\users\\monku\\anaconda3\\envs\\python3-8\\lib\\site-packages (from spacy<2.4.0,>=2.3.0->en_core_web_sm==2.3.1) (1.1.3)\n",
      "Requirement already satisfied: murmurhash<1.1.0,>=0.28.0 in c:\\users\\monku\\anaconda3\\envs\\python3-8\\lib\\site-packages (from spacy<2.4.0,>=2.3.0->en_core_web_sm==2.3.1) (1.0.4)\n",
      "Requirement already satisfied: thinc==7.4.1 in c:\\users\\monku\\anaconda3\\envs\\python3-8\\lib\\site-packages (from spacy<2.4.0,>=2.3.0->en_core_web_sm==2.3.1) (7.4.1)\n",
      "Requirement already satisfied: preshed<3.1.0,>=3.0.2 in c:\\users\\monku\\anaconda3\\envs\\python3-8\\lib\\site-packages (from spacy<2.4.0,>=2.3.0->en_core_web_sm==2.3.1) (3.0.4)\n",
      "Requirement already satisfied: catalogue<1.1.0,>=0.0.7 in c:\\users\\monku\\anaconda3\\envs\\python3-8\\lib\\site-packages (from spacy<2.4.0,>=2.3.0->en_core_web_sm==2.3.1) (1.0.0)\n",
      "Requirement already satisfied: tqdm<5.0.0,>=4.38.0 in c:\\users\\monku\\anaconda3\\envs\\python3-8\\lib\\site-packages (from spacy<2.4.0,>=2.3.0->en_core_web_sm==2.3.1) (4.50.2)\n",
      "Requirement already satisfied: cymem<2.1.0,>=2.0.2 in c:\\users\\monku\\anaconda3\\envs\\python3-8\\lib\\site-packages (from spacy<2.4.0,>=2.3.0->en_core_web_sm==2.3.1) (2.0.4)\n",
      "Requirement already satisfied: srsly<1.1.0,>=1.0.2 in c:\\users\\monku\\anaconda3\\envs\\python3-8\\lib\\site-packages (from spacy<2.4.0,>=2.3.0->en_core_web_sm==2.3.1) (1.0.4)\n",
      "Requirement already satisfied: chardet<4,>=3.0.2 in c:\\users\\monku\\anaconda3\\envs\\python3-8\\lib\\site-packages (from requests<3.0.0,>=2.13.0->spacy<2.4.0,>=2.3.0->en_core_web_sm==2.3.1) (3.0.4)\n",
      "Requirement already satisfied: certifi>=2017.4.17 in c:\\users\\monku\\anaconda3\\envs\\python3-8\\lib\\site-packages (from requests<3.0.0,>=2.13.0->spacy<2.4.0,>=2.3.0->en_core_web_sm==2.3.1) (2020.6.20)\n",
      "Requirement already satisfied: idna<3,>=2.5 in c:\\users\\monku\\anaconda3\\envs\\python3-8\\lib\\site-packages (from requests<3.0.0,>=2.13.0->spacy<2.4.0,>=2.3.0->en_core_web_sm==2.3.1) (2.10)\n",
      "Requirement already satisfied: urllib3!=1.25.0,!=1.25.1,<1.26,>=1.21.1 in c:\\users\\monku\\anaconda3\\envs\\python3-8\\lib\\site-packages (from requests<3.0.0,>=2.13.0->spacy<2.4.0,>=2.3.0->en_core_web_sm==2.3.1) (1.25.9)\n",
      "[+] Download and installation successful\n",
      "You can now load the model via spacy.load('en_core_web_sm')\n"
     ]
    }
   ],
   "source": [
    "!pip install pandas\n",
    "!pip install sklearn\n",
    "!pip install gensim\n",
    "!pip install textblob\n",
    "!pip install nltk\n",
    "!pip install spacy\n",
    "!python -m spacy download en_core_web_sm"
   ]
  },
  {
   "cell_type": "code",
   "execution_count": 2,
   "metadata": {},
   "outputs": [],
   "source": [
    "import spacy\n",
    "import pandas as pd\n",
    "import nltk"
   ]
  },
  {
   "cell_type": "code",
   "execution_count": 3,
   "metadata": {
    "collapsed": true
   },
   "outputs": [
    {
     "name": "stderr",
     "output_type": "stream",
     "text": [
      "[nltk_data] Downloading package wordnet to\n",
      "[nltk_data]     C:\\Users\\monku\\AppData\\Roaming\\nltk_data...\n",
      "[nltk_data]   Package wordnet is already up-to-date!\n",
      "[nltk_data] Downloading package punkt to\n",
      "[nltk_data]     C:\\Users\\monku\\AppData\\Roaming\\nltk_data...\n",
      "[nltk_data]   Package punkt is already up-to-date!\n",
      "[nltk_data] Downloading package stopwords to\n",
      "[nltk_data]     C:\\Users\\monku\\AppData\\Roaming\\nltk_data...\n",
      "[nltk_data]   Package stopwords is already up-to-date!\n",
      "[nltk_data] Downloading package brown to\n",
      "[nltk_data]     C:\\Users\\monku\\AppData\\Roaming\\nltk_data...\n",
      "[nltk_data]   Package brown is already up-to-date!\n"
     ]
    },
    {
     "data": {
      "text/plain": [
       "True"
      ]
     },
     "execution_count": 3,
     "metadata": {},
     "output_type": "execute_result"
    }
   ],
   "source": [
    "nltk.download('wordnet')\n",
    "nltk.download('punkt')\n",
    "nltk.download('stopwords')\n",
    "nltk.download('brown')"
   ]
  },
  {
   "cell_type": "code",
   "execution_count": 4,
   "metadata": {},
   "outputs": [],
   "source": [
    "papers_df = pd.read_csv(\"papers.csv\")\n",
    "docs = papers_df[\"Abstract\"] # list of raw paper abstracts (docs)"
   ]
  },
  {
   "cell_type": "code",
   "execution_count": 5,
   "metadata": {},
   "outputs": [],
   "source": [
    "from textblob import TextBlob\n",
    "from nltk.corpus import stopwords\n",
    "sw = stopwords.words('english')\n",
    "\n",
    "nlp = spacy.load(\"en_core_web_sm\")\n",
    "\n",
    "def select_candidates(text):\n",
    "    \"\"\"\n",
    "    Select keyword candidates for a given doc.\n",
    "    Candidates contain nouns and noun phrases that are not stop words.\n",
    "    \"\"\"\n",
    "    doc = nlp(text.lower())\n",
    "    blob = TextBlob(text.lower())\n",
    "    np = blob.noun_phrases\n",
    "    n = []\n",
    "    for token in doc:\n",
    "        if token.pos_ == \"NOUN\":\n",
    "            n.append(token.text)\n",
    "    candidates = [word for word in list(set(n + np)) if word not in sw]\n",
    "    return candidates"
   ]
  },
  {
   "cell_type": "code",
   "execution_count": 6,
   "metadata": {},
   "outputs": [
    {
     "data": {
      "text/plain": [
       "0      [baselines, tasks, structures, sentiment, mult...\n",
       "1      [performance, tasks, speaker identification, s...\n",
       "2      [tasks, research, propagation patterns, spread...\n",
       "3      [performance, lengthy dialogue histories, inve...\n",
       "4      [performance, tasks, semantic properties, unse...\n",
       "                             ...                        \n",
       "101    [bilstm, vietnamese word segmentation, obtains...\n",
       "102    [self, information, distributions, units, stan...\n",
       "103    [likelihood, language, graph, hierarchical rep...\n",
       "104    [performance, number, question, weber 's law, ...\n",
       "105    [capacity, work, training, pre, state, benefit...\n",
       "Name: Abstract, Length: 106, dtype: object"
      ]
     },
     "execution_count": 6,
     "metadata": {},
     "output_type": "execute_result"
    }
   ],
   "source": [
    "doc_toks = docs.map(select_candidates) # list of doc keyword candidate lists\n",
    "doc_toks"
   ]
  },
  {
   "cell_type": "markdown",
   "metadata": {},
   "source": [
    "# Import and compute word embeddings"
   ]
  },
  {
   "cell_type": "markdown",
   "metadata": {},
   "source": [
    "The function below is adapted from the one provided by Stanford [here](https://web.stanford.edu/class/cs224n/materials/Gensim%20word%20vector%20visualization.html)."
   ]
  },
  {
   "cell_type": "code",
   "execution_count": 7,
   "metadata": {},
   "outputs": [],
   "source": [
    "import matplotlib.pyplot as plt\n",
    "from sklearn.decomposition import PCA\n",
    "\n",
    "def display_pca_scatterplot(doc_toks, doc_embs, i):\n",
    "    \"\"\"\n",
    "    Visualize word embeddings.\n",
    "    \"\"\"\n",
    "    words = doc_toks[i]\n",
    "    word_vectors = doc_embs[i]\n",
    "\n",
    "    twodim = PCA().fit_transform(word_vectors)[:,:2]\n",
    "    \n",
    "    plt.figure(figsize=(10,10))\n",
    "    plt.scatter(twodim[:,0], twodim[:,1], edgecolors='k', c='r')\n",
    "    for word, (x,y) in zip(words, twodim):\n",
    "        plt.text(x+0.01, y+0.01, word)"
   ]
  },
  {
   "cell_type": "markdown",
   "metadata": {},
   "source": [
    "Initially I used GloVe embeddings, but after uncovering GloVe's limitations with regard to this project, I turned to use fastText embeddings. More details can be found below."
   ]
  },
  {
   "cell_type": "markdown",
   "metadata": {},
   "source": [
    "## GloVe embeddings"
   ]
  },
  {
   "cell_type": "markdown",
   "metadata": {},
   "source": [
    "[GloVe](https://www.aclweb.org/anthology/D14-1162/), its name taken from \"Global Vectors\", is an unsupervised learning algorithm applied to obtain vector representations for words. The collection of vectors I used was trained on Wikipedia 2014 and Gigaword 5. However, GloVe has two major limitations in the context of this project:\n",
    "1. As demonstrated in a cell below, GloVe has many out-of-vocabulary (OOV) words. Many of these words may carry significant meaning in the context of its corresponding document, but they will be left out during clustering because they do not have proper embeddings. To tackle this issue, the best approach would be to train another model on another set of training data so that it can predict embeddings for OOV words.\n",
    "2. Affinity Propagation would fail to converge on the embeddings of several documents regardless of which set of hyperparameters is used. I removed the corresponding cell from the notebook to keep things clearer, but the image below shows the warning message. ![image](converge.png)"
   ]
  },
  {
   "cell_type": "code",
   "execution_count": 8,
   "metadata": {},
   "outputs": [],
   "source": [
    "import gensim\n",
    "import gensim.downloader as api\n",
    "\n",
    "info = api.info()\n",
    "glove = api.load(\"glove-wiki-gigaword-300\")"
   ]
  },
  {
   "cell_type": "code",
   "execution_count": 9,
   "metadata": {},
   "outputs": [],
   "source": [
    "import numpy as np\n",
    "\n",
    "def doc_to_emb(doc):\n",
    "    \"\"\"\n",
    "    Create GloVe word embeddings for the candidates of a doc.\n",
    "    For a compound word, use the element-wise average of the embeddings of the single words contained.\n",
    "    \"\"\"\n",
    "    embs = []\n",
    "    remove = []\n",
    "    for word in doc:\n",
    "        emb = np.array(np.zeros(300))\n",
    "        subs = word.split()\n",
    "        count = len(subs)\n",
    "        for w in subs:\n",
    "            try:\n",
    "                emb = np.add(emb, np.array(glove[w]))\n",
    "            except KeyError:\n",
    "                count -= 1\n",
    "        if count > 0:\n",
    "            emb = np.divide(emb, count)\n",
    "            embs.append(emb)\n",
    "        else:\n",
    "            remove.append(word)\n",
    "    for word in remove: doc.remove(word)\n",
    "    return doc, embs"
   ]
  },
  {
   "cell_type": "code",
   "execution_count": 10,
   "metadata": {},
   "outputs": [],
   "source": [
    "# Create GloVe word embeddings for candidates of each doc.\n",
    "doc_embs_glove = [] # list of doc keyword candidate GloVe embedding lists\n",
    "for doc_tok in doc_toks:\n",
    "    doc_tok, embs = doc_to_emb(doc_tok)\n",
    "    doc_embs_glove.append(embs)"
   ]
  },
  {
   "cell_type": "code",
   "execution_count": 11,
   "metadata": {
    "scrolled": true
   },
   "outputs": [
    {
     "name": "stdout",
     "output_type": "stream",
     "text": [
      "encoder-discriminator\n",
      "sincnet\n",
      "utilizable\n",
      "human-human\n",
      "tweet-level\n",
      "task-specific\n",
      "esim\n",
      "softmax\n",
      "esim\n",
      "multi-domain\n",
      "35\\\n",
      "97.38\\\n",
      "88.51\\\n",
      "global-local\n",
      "self-attention\n",
      "out-of-domain\n",
      "plutchik\n",
      "e-c\n",
      "multi-emotion\n",
      "semeval\n",
      "script-like\n",
      "zipfian\n",
      "frequency-rank\n",
      "zipfian\n",
      "speaker/listener\n",
      "sentence-level\n",
      "phrase-level\n",
      "bi-lstm\n",
      "medsim\n",
      "medicine-specific\n",
      "tvsum\n",
      "self-attention\n",
      "9.4b\n",
      "abstractive\n",
      "abstractive\n",
      "summarizer\n",
      "seq2seq\n",
      "seq2seq\n",
      "abstractive\n",
      "evomsa\n",
      "evomsa\n",
      "multi-view\n",
      "multi-task\n",
      "kbqa\n",
      "multi-view\n",
      "multi-task\n",
      "hybrid-hmm\n",
      "ustc-nel\n",
      "iwslt\n",
      "2018.\n",
      "lstm\n",
      "softmax\n",
      "fasttext\n",
      "free-text\n",
      "single-turn\n",
      "coqa\n",
      "coreference\n",
      "chat-crowd\n",
      "chat-crowd\n",
      "bias-variance\n",
      "bias-variance\n",
      "bias-variance\n",
      "founderofcompany\n",
      "cifar-10\n",
      "svhn\n",
      "in-distribution\n",
      "2.5x\n",
      "softmax\n",
      "softmax\n",
      "sequence-to-sequence\n",
      "wmt17\n",
      "sentence-wise\n",
      "non-smooth\n",
      "feature-level\n",
      "omg-empathy\n",
      "lstm\n",
      "held-out\n",
      "with-those\n",
      "2019.\n",
      "of-and\n",
      "english-bengali\n",
      "discriminability\n",
      "oxford-102\n",
      "multi-speaker\n",
      "out-of-domain\n",
      "multi-speaker\n",
      "time-intensive\n",
      "dfgn\n",
      "dfgn\n",
      "cloze\n",
      "non-autoregressive\n",
      "root-to-leaf\n",
      "cnns\n",
      "multi-task\n",
      "multi-task\n",
      "multi-task\n",
      "zero-shot\n",
      "context-event\n",
      "inter-sentential\n",
      "context-event\n",
      "wikipedia2vec\n",
      "tf-idf\n",
      "subtask\n",
      "subtask\n",
      "model\\footnote\n",
      "label-conditional\n",
      "approximators\n",
      "parameterizations\n",
      "mel-filterbanks\n",
      "cepstral\n",
      "encoder-decoder\n",
      "in-domain\n",
      "out-of-domain\n",
      "sequence-to-sequence\n",
      "multi-task\n",
      "avsd\n",
      "lstm\n",
      "scene-aware\n",
      "encoder-decoder\n",
      "vggish\n",
      "question-answer\n",
      "word-level\n",
      "\\cite\n",
      "edi-challenge-dataset\n",
      "ipda\n",
      "ground-truth\n",
      "one-hot\n",
      "softmax\n",
      "goal-driven\n",
      "cold-start\n",
      "wav2letter++'s\n",
      "arrayfire\n",
      "wav2letter++\n",
      "wav2letter++\n",
      "wav2letter++\n",
      "translation-prediction\n",
      "multi-head\n",
      "self-attention\n",
      "switch-lstms\n",
      "single-criterion\n",
      "sub-criteria\n",
      "word-tokens\n",
      "dblp\n",
      "scene-aware\n",
      "convnet\n",
      "tokenizer\n",
      "limited-size\n",
      "image-caption\n",
      "image-caption\n",
      "ground-truth\n",
      "image-level\n",
      "image-caption\n",
      "tpdn\n",
      "autoencoder\n",
      "rnns\n",
      "structure-sensitive\n",
      "rnns\n",
      "caffe2\n",
      "pytext\n",
      "pytext\n",
      "pytorch's\n",
      "xiaoice\n",
      "chatbot\n",
      "xiaoice\n",
      "sub-instructions\n",
      "dqn\n",
      "qweb\n",
      "qweb\n",
      "q-value\n",
      "cross-model\n",
      "network's\n",
      "neurox\n",
      "w.r.t\n",
      "stat-of-the-art\n",
      "utterance-level\n",
      "routing-by-agreement\n",
      "text-driven\n",
      "cross-architecture\n",
      "cross-architecture\n",
      "cross-architecture\n",
      "cross-architecture\n",
      "tree-decomposition\n",
      "nonmonotonic\n",
      "i-dlv\n",
      "cross-entropy\n",
      "limited-vocabulary\n",
      "encoder-decoder\n",
      "english-german\n",
      "encoder-refiner-decoder\n",
      "encoder-decoder\n",
      "target-side\n",
      "dbpedia\n",
      "dbpedia\n",
      "textext\n",
      "corpus-level\n",
      "dimensionalities\n",
      "cross-lingual\n",
      "cross-corpus\n",
      "cross-lingual\n",
      "tatoeba\n",
      "cross-lingual\n",
      "xnli\n",
      "low-resource\n",
      "pytorch\n",
      "bilstm\n",
      "mldoc\n",
      "qrfa\n",
      "aspect-specific\n",
      "multi-task\n",
      "multi-aspect\n",
      "clickbait\n",
      "clickbait\n",
      "clickbait\n",
      "clickbait\n",
      "-the\n",
      "knowledge-driven\n",
      "utterences\n",
      "easy-to-provide\n",
      "biaffine\n",
      "conll04\n",
      "multi-instance\n",
      "multi-label\n",
      "self-attention\n",
      "self-attention\n",
      "self-attention\n",
      "cross-language\n",
      "cross-language\n",
      "cross-language\n"
     ]
    }
   ],
   "source": [
    "# Inspect out-of-vocab words.\n",
    "for doc_tok in doc_toks:\n",
    "    for tok in doc_tok:\n",
    "        for t in tok.split():\n",
    "            try: emb = glove[t]\n",
    "            except KeyError: print(t)"
   ]
  },
  {
   "cell_type": "code",
   "execution_count": 12,
   "metadata": {},
   "outputs": [
    {
     "data": {
      "image/png": "[encoded data removed]",
      "text/plain": [
       "<Figure size 720x720 with 1 Axes>"
      ]
     },
     "metadata": {
      "needs_background": "light"
     },
     "output_type": "display_data"
    }
   ],
   "source": [
    "# Visualize the GloVe embeddings of candidates of the first doc.\n",
    "display_pca_scatterplot(doc_toks, doc_embs_glove, 0)"
   ]
  },
  {
   "cell_type": "markdown",
   "metadata": {},
   "source": [
    "It needs to be noted that the visualization is only 2D while the word embeddings have 300 dimensions, so distance between points is not representative of the dissimilarity between the corresponding words. Nevertheless, according to GloVe, \"dialogue\" and \"dialogues\" only have a similarity score of around 0.72."
   ]
  },
  {
   "cell_type": "code",
   "execution_count": 13,
   "metadata": {},
   "outputs": [
    {
     "data": {
      "text/plain": [
       "0.71682554"
      ]
     },
     "execution_count": 13,
     "metadata": {},
     "output_type": "execute_result"
    }
   ],
   "source": [
    "glove.similarity(\"dialogue\", \"dialogues\")"
   ]
  },
  {
   "cell_type": "markdown",
   "metadata": {},
   "source": [
    "## FastText embeddings"
   ]
  },
  {
   "cell_type": "markdown",
   "metadata": {},
   "source": [
    "To tackle the issue of OOV words, I decided to use [fastText](https://fasttext.cc/) instead of training another model for GloVe, because the latter would largely depend on good training data. It would take a significant amount of time to find such data and train the model while this part of the project should not be the main focus. According to the [original paper](https://arxiv.org/abs/1607.04606), fastText uses an underlying skipgram model, where each word is represented as a bag of character n-grams. A vector is associated with each character n-gram, and words are represented as the sum of these vectors. Therefore, it is capable of generating embeddings for OOV words based on their character n-grams. It can also handle compound words."
   ]
  },
  {
   "cell_type": "markdown",
   "metadata": {},
   "source": [
    "To use fastText without training a corpus from scratch, I obtained pre-trained Wikipedia word vectors in the following way:\n",
    "1. Download *English: bin + text* from [here](https://fasttext.cc/docs/en/pretrained-vectors.html). Save it in the same directory as this notebook.\n",
    "2. Unzip. Two files would appear: \"wiki.en.vec\" and \"wiki.en.bin\". The latter would be used in the following cell."
   ]
  },
  {
   "cell_type": "markdown",
   "metadata": {},
   "source": [
    "The following cell will take a long time to run. You may run into a memory error if other kernels are active."
   ]
  },
  {
   "cell_type": "code",
   "execution_count": 14,
   "metadata": {},
   "outputs": [
    {
     "name": "stderr",
     "output_type": "stream",
     "text": [
      "<ipython-input-14-b5dba8d33f6b>:2: DeprecationWarning: Call to deprecated `load_fasttext_format` (use load_facebook_vectors (to use pretrained embeddings) or load_facebook_model (to continue training with the loaded full model, more RAM) instead).\n",
      "  model = ft.load_fasttext_format(\"wiki.en.bin\")\n"
     ]
    }
   ],
   "source": [
    "from gensim.models import FastText as ft\n",
    "model = ft.load_fasttext_format(\"wiki.en.bin\")"
   ]
  },
  {
   "cell_type": "markdown",
   "metadata": {},
   "source": [
    "As demonstrated in the cell below, even though \"self-attention\" is not in the pre-trained vocabulary, fastText is still able to create a vector representation for it. This shows that fastText has better coverage than GloVe."
   ]
  },
  {
   "cell_type": "code",
   "execution_count": 15,
   "metadata": {},
   "outputs": [
    {
     "name": "stdout",
     "output_type": "stream",
     "text": [
      "False\n",
      "True\n"
     ]
    },
    {
     "name": "stderr",
     "output_type": "stream",
     "text": [
      "<ipython-input-15-27b23aba071c>:3: DeprecationWarning: Call to deprecated `__getitem__` (Method will be removed in 4.0.0, use self.wv.__getitem__() instead).\n",
      "  print(model[\"self-attention\"])\n"
     ]
    },
    {
     "name": "stdout",
     "output_type": "stream",
     "text": [
      "[-0.23957437 -0.32297555 -0.24627851  0.19866364 -0.22185782 -0.3030922\n",
      " -0.04469643 -0.15017727 -0.26923093  0.26155347 -0.28236964 -0.02646313\n",
      " -0.17845148  0.03845784  0.1683383  -0.24089947 -0.17072809 -0.01827928\n",
      "  0.1753108   0.17592882  0.09995519  0.17614907 -0.15392523 -0.20798439\n",
      " -0.35987282  0.07766123  0.12314619 -0.01889289  0.34533432  0.34039497\n",
      " -0.14624324  0.38168535 -0.29436883  0.29641742  0.12930991 -0.41639465\n",
      " -0.05832529  0.0052346   0.16216975  0.02111896 -0.01838155 -0.0136331\n",
      " -0.1358394  -0.2231264   0.26378632  0.02882122  0.08756168  0.04818382\n",
      "  0.00368288 -0.007054   -0.08663464 -0.55781096 -0.04023812 -0.28837302\n",
      " -0.08175195 -0.19646545 -0.01859382 -0.21199477 -0.1484177   0.08732152\n",
      " -0.00153419 -0.12473331  0.06768028  0.05421545 -0.06274024 -0.23881496\n",
      " -0.05764224  0.27522486 -0.00421411 -0.00463037  0.03967226  0.02616695\n",
      "  0.3118208  -0.09176192 -0.15023772  0.3997346   0.08368417  0.19878031\n",
      " -0.03116708  0.05409343 -0.03040276  0.04381429 -0.08066863 -0.29707834\n",
      " -0.0533129   0.06084864 -0.14027092 -0.06030646  0.1610376  -0.05745645\n",
      "  0.08246882 -0.10913539  0.13400161 -0.26045427  0.12017508  0.0651959\n",
      "  0.13644618 -0.00823893 -0.04435258 -0.10496858  0.14012314 -0.08344954\n",
      "  0.1175902  -0.32687008  0.0478556  -0.11406144 -0.21955386 -0.00648258\n",
      " -0.03218142  0.0160863   0.00328035 -0.00670178 -0.00529012  0.0094413\n",
      "  0.034954   -0.22908413  0.05753774 -0.12101018 -0.24661331 -0.00288044\n",
      "  0.22898822  0.21670133 -0.3282711   0.03239949 -0.1627694   0.07998412\n",
      " -0.08928523  0.06207196  0.08302733  0.08373945  0.10889718 -0.02526831\n",
      " -0.22406182 -0.1284127   0.07276311  0.07749935  0.0335042  -0.20857948\n",
      "  0.19427864  0.30277902  0.08276062  0.039696    0.25856408 -0.17255445\n",
      " -0.05372696  0.1880433  -0.02654176  0.04043007 -0.00147191  0.12967652\n",
      "  0.062969   -0.12540127  0.0827501  -0.29177424 -0.10275614 -0.05331798\n",
      " -0.06600276 -0.10995468  0.15321603  0.05598357  0.03668651  0.09597576\n",
      "  0.02591595  0.03174628  0.24006617  0.25789997 -0.06715473 -0.26566055\n",
      "  0.10776267  0.12790282 -0.35973498  0.09935683 -0.42021888  0.20093848\n",
      " -0.06511105  0.10953708 -0.1045616  -0.04651086 -0.04106169 -0.32200953\n",
      " -0.11106584 -0.24660331 -0.25267807  0.06455631  0.05953155  0.19476524\n",
      "  0.07087498 -0.34716144  0.13564636 -0.0459785  -0.08333315 -0.31716454\n",
      "  0.08791177  0.05571261 -0.12456291 -0.13711867 -0.05454871  0.05582334\n",
      " -0.29861408 -0.01438324  0.10261739 -0.00482083  0.06809101 -0.08838532\n",
      "  0.00612813 -0.1390394  -0.04063763  0.08594553 -0.1129498   0.0112904\n",
      "  0.0383344   0.00356768  0.35771054 -0.23185998  0.11216202 -0.07134607\n",
      "  0.37951893 -0.28002042 -0.13585825  0.07254395  0.01098031  0.09219932\n",
      "  0.00322786  0.05828257  0.16401035  0.0218049  -0.00780978 -0.32884336\n",
      " -0.02573486 -0.16814315  0.15175924 -0.11469122 -0.10976604  0.10695001\n",
      " -0.06041729 -0.06687512  0.21896082 -0.07137623  0.10773184 -0.0175086\n",
      " -0.12788935  0.41070893 -0.06221481 -0.05754047 -0.12947822  0.10727417\n",
      " -0.17947216  0.32147112 -0.04619987  0.0477217   0.038518   -0.23443837\n",
      "  0.07764787 -0.0591934   0.28221145 -0.08167451  0.17915107 -0.14816073\n",
      "  0.04554401 -0.05220508  0.0076689   0.05396695 -0.095728    0.17699826\n",
      " -0.29188573  0.13596065 -0.14597683  0.12794824 -0.27604467  0.10587072\n",
      " -0.10436773 -0.04383254  0.10508338 -0.05393055 -0.301506   -0.1447669\n",
      " -0.12972133  0.20911728 -0.15365703  0.01585005 -0.17755319  0.10737211\n",
      " -0.14071757  0.06217688 -0.04066972 -0.14541073  0.43465957  0.03731542\n",
      "  0.09922571 -0.09607574  0.02261839  0.10802674 -0.01322816  0.01283382\n",
      "  0.00543883  0.11125506  0.02203104  0.20652449  0.25645196  0.09442776]\n"
     ]
    }
   ],
   "source": [
    "print(\"self-attention\" in model.wv.vocab)\n",
    "print(\"self-attention\" in model.wv)\n",
    "print(model[\"self-attention\"])"
   ]
  },
  {
   "cell_type": "code",
   "execution_count": 16,
   "metadata": {},
   "outputs": [
    {
     "name": "stderr",
     "output_type": "stream",
     "text": [
      "<ipython-input-16-780c1fa6c0f5>:6: DeprecationWarning: Call to deprecated `__getitem__` (Method will be removed in 4.0.0, use self.wv.__getitem__() instead).\n",
      "  doc_emb.append(model[tok])\n"
     ]
    }
   ],
   "source": [
    "# Create fastText word embeddings for candidates of each doc.\n",
    "doc_embs = [] # # list of doc keyword candidate fastText embedding lists\n",
    "for doc_tok in doc_toks:\n",
    "    doc_emb = []\n",
    "    for tok in doc_tok:\n",
    "        doc_emb.append(model[tok])\n",
    "    doc_embs.append(doc_emb)"
   ]
  },
  {
   "cell_type": "code",
   "execution_count": 17,
   "metadata": {},
   "outputs": [
    {
     "data": {
      "image/png": "[encoded data removed]",
      "text/plain": [
       "<Figure size 720x720 with 1 Axes>"
      ]
     },
     "metadata": {
      "needs_background": "light"
     },
     "output_type": "display_data"
    }
   ],
   "source": [
    "# Visualize the fastText embeddings of candidates of the first doc.\n",
    "display_pca_scatterplot(doc_toks, doc_embs, 0)"
   ]
  },
  {
   "cell_type": "markdown",
   "metadata": {},
   "source": [
    "Compared to the 0.72 returned by GloVe, fastText gives a similarity score of around 0.86 to \"dialogue\" and \"dialogues\". This higher score makes more sense because \"dialogues\" is only the plural form of \"dialogue\". Thus, fastText appears to be a more reliable word vector model."
   ]
  },
  {
   "cell_type": "code",
   "execution_count": 18,
   "metadata": {},
   "outputs": [
    {
     "name": "stderr",
     "output_type": "stream",
     "text": [
      "<ipython-input-18-ef78777a327a>:1: DeprecationWarning: Call to deprecated `similarity` (Method will be removed in 4.0.0, use self.wv.similarity() instead).\n",
      "  model.similarity(\"dialogue\", \"dialogues\")\n"
     ]
    },
    {
     "data": {
      "text/plain": [
       "0.8556871"
      ]
     },
     "execution_count": 18,
     "metadata": {},
     "output_type": "execute_result"
    }
   ],
   "source": [
    "model.similarity(\"dialogue\", \"dialogues\")"
   ]
  },
  {
   "cell_type": "markdown",
   "metadata": {},
   "source": [
    "# Apply Clustering Algorithms"
   ]
  },
  {
   "cell_type": "markdown",
   "metadata": {},
   "source": [
    "In this section of the notebook, I applied Affinity Propagation, K-Means, and Mean Shift on the word embeddings of each document. K-Means require the number of clusters (n_clusters) as its input, while Affinity Propagation and Mean Shift do not. Thus, to ensure fairness during evaluation, I applied K-Means twice, once setting n_clusters based on results returned by Affinity Propagation, the other time setting n_clusters based on results returned by Mean Shift."
   ]
  },
  {
   "cell_type": "markdown",
   "metadata": {},
   "source": [
    "I tried DBSCAN and experimented with different hyperparameters, but it would either treat almost all word embeddings as noise, or it would put almost all of them into the same cluster. This is probably because density among the word embeddings does not vary too much, thus DBSCAN would not be an appropriate algorithm to apply in this scenario. I also tried hierarchical clustering, but was unable to find an effective way of extracting the centroids."
   ]
  },
  {
   "cell_type": "markdown",
   "metadata": {},
   "source": [
    "The function below is adapted from the similarity function defined in the Gensim source code [here](https://github.com/RaRe-Technologies/gensim/blob/develop/gensim/models/keyedvectors.py)."
   ]
  },
  {
   "cell_type": "code",
   "execution_count": 19,
   "metadata": {},
   "outputs": [],
   "source": [
    "def simi(x, y):\n",
    "    \"\"\"\n",
    "    Calculate the consine similarity between two word embeddings.\n",
    "    \"\"\"\n",
    "    return np.dot(matutils.unitvec(x), matutils.unitvec(y))"
   ]
  },
  {
   "cell_type": "markdown",
   "metadata": {},
   "source": [
    "## Affinity Propagation"
   ]
  },
  {
   "cell_type": "code",
   "execution_count": 20,
   "metadata": {},
   "outputs": [],
   "source": [
    "from sklearn.cluster import AffinityPropagation\n",
    "\n",
    "ap_kw = [] # list of keyword lists returned by Affinity Propagation\n",
    "\n",
    "for i, doc_emb in enumerate(doc_embs):\n",
    "    ap = AffinityPropagation(random_state=5).fit(doc_emb)\n",
    "    centers = ap.cluster_centers_\n",
    "    indices = []\n",
    "    doc_kw = []\n",
    "    \n",
    "    # Identify the centers of these clusters.\n",
    "    for c in centers:\n",
    "        for j, emb in enumerate(doc_emb):\n",
    "            if np.array_equal(emb, c):\n",
    "                indices.append(j)\n",
    "    doc_kw = [doc_toks[i][k] for k in indices]\n",
    "    ap_kw.append(doc_kw)"
   ]
  },
  {
   "cell_type": "markdown",
   "metadata": {},
   "source": [
    "## K-means (n_clusters based on results from Affinity Propagation)"
   ]
  },
  {
   "cell_type": "code",
   "execution_count": 21,
   "metadata": {},
   "outputs": [],
   "source": [
    "from sklearn.cluster import KMeans\n",
    "import matplotlib.pyplot as plt\n",
    "from gensim import matutils\n",
    "\n",
    "kmeans_kw_ap = [] # list of keyword lists returned by K-Means (n_clusters based on AP)\n",
    "\n",
    "for i, doc_emb in enumerate(doc_embs):\n",
    "    n = len(ap_kw[i])\n",
    "    if n > 0:\n",
    "        kmeans = KMeans(n_clusters=n, random_state=0).fit(doc_emb)\n",
    "        centers = kmeans.cluster_centers_\n",
    "        doc_kw = []\n",
    "        \n",
    "        # Identify the centers of the clusters by finding the their closest word embeddings.\n",
    "        for c in centers:\n",
    "            max_sim = -1\n",
    "            center = 0\n",
    "            for j, emb in enumerate(doc_emb):\n",
    "                sim = simi(emb, c)\n",
    "                if sim > max_sim:\n",
    "                    max_sim = sim\n",
    "                    center = j\n",
    "            doc_kw.append(doc_toks[i][center])\n",
    "        kmeans_kw_ap.append(doc_kw)\n",
    "    else:\n",
    "        kmeans_kw_ap.append([])"
   ]
  },
  {
   "cell_type": "markdown",
   "metadata": {},
   "source": [
    "## Mean Shift"
   ]
  },
  {
   "cell_type": "code",
   "execution_count": 22,
   "metadata": {},
   "outputs": [],
   "source": [
    "from sklearn.cluster import MeanShift\n",
    "\n",
    "ms_kw = [] # list of keyword lists returned by Mean Shift\n",
    "\n",
    "for i, doc_emb in enumerate(doc_embs):\n",
    "    ms = MeanShift(bandwidth=3.78).fit(doc_emb)\n",
    "    centers = ms.cluster_centers_\n",
    "    \n",
    "    # Map elements to their corresponding cluster.\n",
    "    clusters = {}\n",
    "    for c in range(len(ms.cluster_centers_)): clusters[c] = []\n",
    "    for j, emb in enumerate(doc_emb):\n",
    "        cluster_id = ms.labels_[j]\n",
    "        clusters[cluster_id].append(j)\n",
    "    \n",
    "    # Identify the centers of the clusters by finding the their closest word embeddings.\n",
    "    doc_kw = []\n",
    "    for k, c in enumerate(centers):\n",
    "        cluster = clusters[k]\n",
    "        max_sim = -1\n",
    "        center = 0\n",
    "        for idx in cluster:\n",
    "            sim = simi(doc_emb[idx], c)\n",
    "            if sim > max_sim:\n",
    "                max_sim = sim\n",
    "                center = idx\n",
    "        doc_kw.append(doc_toks[i][center])\n",
    "    \n",
    "    ms_kw.append(doc_kw)"
   ]
  },
  {
   "cell_type": "markdown",
   "metadata": {},
   "source": [
    "I tuned the bandwidth parameter of the Mean Shift algorithm by ensuring that the average n_clusters generated by Mean Shift was close to the average n_clusters generated by Affinity Propagation (shown in the following cell). This was to ensure fairness during evaluation. After several experiments, I discovered that a bandwidth of 3.78 would result in similar average n_clusters for the two algorithms:"
   ]
  },
  {
   "cell_type": "code",
   "execution_count": 23,
   "metadata": {},
   "outputs": [
    {
     "name": "stdout",
     "output_type": "stream",
     "text": [
      "The average n_clusters for Affinity Propagation is: 8.245283018867925\n",
      "The average n_clusters for Mean Shift is: 8.132075471698114\n"
     ]
    }
   ],
   "source": [
    "ap_n_all = [len(ap) for ap in ap_kw]\n",
    "ap_n = sum(ap_n_all)/len(ap_kw)\n",
    "print(\"The average n_clusters for Affinity Propagation is: \" + str(ap_n))\n",
    "\n",
    "ms_n_all = [len(ms) for ms in ms_kw]\n",
    "ms_n = sum(ms_n_all)/len(ms_kw)\n",
    "print(\"The average n_clusters for Mean Shift is: \" + str(ms_n))"
   ]
  },
  {
   "cell_type": "markdown",
   "metadata": {},
   "source": [
    "## K-means (n_clusters based on results from Mean Shift)"
   ]
  },
  {
   "cell_type": "code",
   "execution_count": 24,
   "metadata": {},
   "outputs": [],
   "source": [
    "from sklearn.cluster import KMeans\n",
    "import matplotlib.pyplot as plt\n",
    "from gensim import matutils\n",
    "\n",
    "kmeans_kw_ms = [] # list of keyword lists returned by K-Means (n_clusters based on MS)\n",
    "\n",
    "for i, doc_emb in enumerate(doc_embs):\n",
    "    n = len(ms_kw[i])\n",
    "    if n > 0:\n",
    "        kmeans = KMeans(n_clusters=n, random_state=0).fit(doc_emb)\n",
    "        centers = kmeans.cluster_centers_\n",
    "        doc_kw = []\n",
    "        \n",
    "        # Identify the centers of the clusters by finding the their closest word embeddings.\n",
    "        for c in centers:\n",
    "            max_sim = -1\n",
    "            center = 0\n",
    "            for j, emb in enumerate(doc_emb):\n",
    "                sim = simi(emb, c)\n",
    "                if sim > max_sim:\n",
    "                    max_sim = sim\n",
    "                    center = j\n",
    "            doc_kw.append(doc_toks[i][center])\n",
    "        kmeans_kw_ms.append(doc_kw)"
   ]
  },
  {
   "cell_type": "markdown",
   "metadata": {},
   "source": [
    "# Evaluate clustering algorithms with other methods"
   ]
  },
  {
   "cell_type": "markdown",
   "metadata": {},
   "source": [
    "In this section, I will compare the aforementioned clustering algorithms to [RAKE (Rapid Automatic Keyword Extraction)](https://www.researchgate.net/publication/227988510_Automatic_Keyword_Extraction_from_Individual_Documents) and [TextRank](https://www.aclweb.org/anthology/W04-3252/), both of which are widely used keyword extraction algorithms. Given a piece of text, they would return a list of all identified candidate words/phrases ranked in the order of their significance within the text. Originally I also planned to use the [TF-IDF](https://en.wikipedia.org/wiki/Tf%E2%80%93idf) (term frequency–inverse document frequency) algorithm, but it woule require a larger corpus of documents to be fully effective.\n",
    "\n",
    "As discussed in the previous section, Affinity Propagation and Mean Shift would generate their own n_clusters, which would lead to keyword lists of different lengths. Thus, I sliced the lists returned by RAKE and TextRank differently for each respective algorithm."
   ]
  },
  {
   "cell_type": "markdown",
   "metadata": {},
   "source": [
    "## RAKE"
   ]
  },
  {
   "cell_type": "code",
   "execution_count": 25,
   "metadata": {
    "collapsed": true
   },
   "outputs": [
    {
     "name": "stdout",
     "output_type": "stream",
     "text": [
      "Requirement already satisfied: rake-nltk in c:\\users\\monku\\anaconda3\\envs\\python3-8\\lib\\site-packages (1.0.4)\n",
      "Requirement already satisfied: nltk in c:\\users\\monku\\anaconda3\\envs\\python3-8\\lib\\site-packages (from rake-nltk) (3.5)\n",
      "Requirement already satisfied: tqdm in c:\\users\\monku\\anaconda3\\envs\\python3-8\\lib\\site-packages (from nltk->rake-nltk) (4.50.2)\n",
      "Requirement already satisfied: regex in c:\\users\\monku\\anaconda3\\envs\\python3-8\\lib\\site-packages (from nltk->rake-nltk) (2020.10.15)\n",
      "Requirement already satisfied: click in c:\\users\\monku\\anaconda3\\envs\\python3-8\\lib\\site-packages (from nltk->rake-nltk) (7.1.2)\n",
      "Requirement already satisfied: joblib in c:\\users\\monku\\anaconda3\\envs\\python3-8\\lib\\site-packages (from nltk->rake-nltk) (0.16.0)\n"
     ]
    }
   ],
   "source": [
    "!pip install rake-nltk"
   ]
  },
  {
   "cell_type": "code",
   "execution_count": 26,
   "metadata": {},
   "outputs": [],
   "source": [
    "from rake_nltk import Rake\n",
    "\n",
    "r = Rake()\n",
    "rake_ap = [] # RAKE based on number of keywords returned by Affinity Propagation\n",
    "rake_ms = [] # RAKE based on number of keywords returned by Mean Shift\n",
    "for i, doc in enumerate(docs):\n",
    "    r.extract_keywords_from_text(doc)\n",
    "    n_ap = len(ap_kw[i])\n",
    "    n_ms = len(ms_kw[i])\n",
    "    rake_ms.append(r.get_ranked_phrases()[0:n_ms])\n",
    "    rake_ap.append(r.get_ranked_phrases()[0:n_ap])"
   ]
  },
  {
   "cell_type": "markdown",
   "metadata": {},
   "source": [
    "## TextRank"
   ]
  },
  {
   "cell_type": "code",
   "execution_count": 27,
   "metadata": {
    "collapsed": true
   },
   "outputs": [
    {
     "name": "stdout",
     "output_type": "stream",
     "text": [
      "Requirement already satisfied: pytextrank in c:\\users\\monku\\anaconda3\\envs\\python3-8\\lib\\site-packages (2.0.3)\n",
      "Requirement already satisfied: coverage in c:\\users\\monku\\anaconda3\\envs\\python3-8\\lib\\site-packages (from pytextrank) (5.3)\n",
      "Requirement already satisfied: graphviz in c:\\users\\monku\\anaconda3\\envs\\python3-8\\lib\\site-packages (from pytextrank) (0.15)\n",
      "Requirement already satisfied: networkx in c:\\users\\monku\\anaconda3\\envs\\python3-8\\lib\\site-packages (from pytextrank) (2.5)\n",
      "Requirement already satisfied: spacy in c:\\users\\monku\\anaconda3\\envs\\python3-8\\lib\\site-packages (from pytextrank) (2.3.2)\n",
      "Requirement already satisfied: decorator>=4.3.0 in c:\\users\\monku\\anaconda3\\envs\\python3-8\\lib\\site-packages (from networkx->pytextrank) (4.4.2)\n",
      "Requirement already satisfied: thinc==7.4.1 in c:\\users\\monku\\anaconda3\\envs\\python3-8\\lib\\site-packages (from spacy->pytextrank) (7.4.1)\n",
      "Requirement already satisfied: tqdm<5.0.0,>=4.38.0 in c:\\users\\monku\\anaconda3\\envs\\python3-8\\lib\\site-packages (from spacy->pytextrank) (4.50.2)\n",
      "Requirement already satisfied: preshed<3.1.0,>=3.0.2 in c:\\users\\monku\\anaconda3\\envs\\python3-8\\lib\\site-packages (from spacy->pytextrank) (3.0.4)\n",
      "Requirement already satisfied: requests<3.0.0,>=2.13.0 in c:\\users\\monku\\anaconda3\\envs\\python3-8\\lib\\site-packages (from spacy->pytextrank) (2.24.0)\n",
      "Requirement already satisfied: numpy>=1.15.0 in c:\\users\\monku\\anaconda3\\envs\\python3-8\\lib\\site-packages (from spacy->pytextrank) (1.19.1)\n",
      "Requirement already satisfied: catalogue<1.1.0,>=0.0.7 in c:\\users\\monku\\anaconda3\\envs\\python3-8\\lib\\site-packages (from spacy->pytextrank) (1.0.0)\n",
      "Requirement already satisfied: setuptools in c:\\users\\monku\\anaconda3\\envs\\python3-8\\lib\\site-packages (from spacy->pytextrank) (49.2.0.post20200714)\n",
      "Requirement already satisfied: blis<0.5.0,>=0.4.0 in c:\\users\\monku\\anaconda3\\envs\\python3-8\\lib\\site-packages (from spacy->pytextrank) (0.4.1)\n",
      "Requirement already satisfied: cymem<2.1.0,>=2.0.2 in c:\\users\\monku\\anaconda3\\envs\\python3-8\\lib\\site-packages (from spacy->pytextrank) (2.0.4)\n",
      "Requirement already satisfied: plac<1.2.0,>=0.9.6 in c:\\users\\monku\\anaconda3\\envs\\python3-8\\lib\\site-packages (from spacy->pytextrank) (1.1.3)\n",
      "Requirement already satisfied: murmurhash<1.1.0,>=0.28.0 in c:\\users\\monku\\anaconda3\\envs\\python3-8\\lib\\site-packages (from spacy->pytextrank) (1.0.4)\n",
      "Requirement already satisfied: srsly<1.1.0,>=1.0.2 in c:\\users\\monku\\anaconda3\\envs\\python3-8\\lib\\site-packages (from spacy->pytextrank) (1.0.4)\n",
      "Requirement already satisfied: wasabi<1.1.0,>=0.4.0 in c:\\users\\monku\\anaconda3\\envs\\python3-8\\lib\\site-packages (from spacy->pytextrank) (0.8.0)\n",
      "Requirement already satisfied: idna<3,>=2.5 in c:\\users\\monku\\anaconda3\\envs\\python3-8\\lib\\site-packages (from requests<3.0.0,>=2.13.0->spacy->pytextrank) (2.10)\n",
      "Requirement already satisfied: certifi>=2017.4.17 in c:\\users\\monku\\anaconda3\\envs\\python3-8\\lib\\site-packages (from requests<3.0.0,>=2.13.0->spacy->pytextrank) (2020.6.20)\n",
      "Requirement already satisfied: chardet<4,>=3.0.2 in c:\\users\\monku\\anaconda3\\envs\\python3-8\\lib\\site-packages (from requests<3.0.0,>=2.13.0->spacy->pytextrank) (3.0.4)\n",
      "Requirement already satisfied: urllib3!=1.25.0,!=1.25.1,<1.26,>=1.21.1 in c:\\users\\monku\\anaconda3\\envs\\python3-8\\lib\\site-packages (from requests<3.0.0,>=2.13.0->spacy->pytextrank) (1.25.9)\n"
     ]
    }
   ],
   "source": [
    "!pip install pytextrank"
   ]
  },
  {
   "cell_type": "code",
   "execution_count": 28,
   "metadata": {},
   "outputs": [],
   "source": [
    "import pytextrank\n",
    "\n",
    "tr = pytextrank.TextRank()\n",
    "nlp.add_pipe(tr.PipelineComponent, name=\"textrank\", last=True)"
   ]
  },
  {
   "cell_type": "code",
   "execution_count": 29,
   "metadata": {},
   "outputs": [],
   "source": [
    "tr_ap = [] # TextRank based on number of keywords returned by Affinity Propagation\n",
    "tr_ms = [] # TextRank based on number of keywords returned by Mean Shift\n",
    "for i, doc in enumerate(docs):\n",
    "    doc = nlp(doc)\n",
    "    n_ap = len(ap_kw[i])\n",
    "    n_ms = len(ms_kw[i])\n",
    "    tr_ms.append(doc._.phrases[0:n_ms])\n",
    "    tr_ap.append(doc._.phrases[0:n_ap])"
   ]
  },
  {
   "cell_type": "markdown",
   "metadata": {},
   "source": [
    "## Evaluation"
   ]
  },
  {
   "cell_type": "markdown",
   "metadata": {},
   "source": [
    "The [Sørensen–Dice (SD) similarity coefficient](https://en.wikipedia.org/wiki/S%C3%B8rensen%E2%80%93Dice_coefficient), used in the [Semantic Unsupervised Automatic Keyphrases\n",
    "Extraction by Integrating Word Embedding with\n",
    "Clustering Methods](https://www.mdpi.com/2414-4088/4/2/30) paper, is capable of measuring string-to-string similarity:"
   ]
  },
  {
   "cell_type": "code",
   "execution_count": 30,
   "metadata": {},
   "outputs": [
    {
     "data": {
      "text/plain": [
       "0.9090909090909091"
      ]
     },
     "execution_count": 30,
     "metadata": {},
     "output_type": "execute_result"
    }
   ],
   "source": [
    "import textdistance\n",
    "\n",
    "textdistance.sorensen_dice.similarity('apple', 'apples')"
   ]
  },
  {
   "cell_type": "markdown",
   "metadata": {},
   "source": [
    "But it would fail to take string-to-string similarity into account when two lists of strings are passed in:"
   ]
  },
  {
   "cell_type": "code",
   "execution_count": 31,
   "metadata": {},
   "outputs": [
    {
     "data": {
      "text/plain": [
       "0.0"
      ]
     },
     "execution_count": 31,
     "metadata": {},
     "output_type": "execute_result"
    }
   ],
   "source": [
    "textdistance.sorensen_dice.similarity(['apple', 'pear'], ['apples', 'pears'])"
   ]
  },
  {
   "cell_type": "code",
   "execution_count": 32,
   "metadata": {},
   "outputs": [
    {
     "data": {
      "text/plain": [
       "1"
      ]
     },
     "execution_count": 32,
     "metadata": {},
     "output_type": "execute_result"
    }
   ],
   "source": [
    "textdistance.sorensen_dice.similarity(['apple', 'pear'], ['apple', 'pear'])"
   ]
  },
  {
   "cell_type": "markdown",
   "metadata": {},
   "source": [
    "I found no existing metric that compares the similarity of two lists of strings (of the same size) that would take string-to-string similarity into consideration. Thus I developed a custom metric that computes the SD similarity for each word in the first list with respect to every word in the second list, then returns the average of these values."
   ]
  },
  {
   "cell_type": "code",
   "execution_count": 33,
   "metadata": {},
   "outputs": [],
   "source": [
    "def evaluate(l1, l2):\n",
    "    \"\"\"\n",
    "    Evaluates the similarity of two lists of strings.\n",
    "    \"\"\"\n",
    "    sd_sim = []\n",
    "    for a in l1:\n",
    "        element_sim = []\n",
    "        for b in l2:\n",
    "            element_sim.append(textdistance.sorensen_dice.similarity(str(a), str(b)))\n",
    "        element_sim = sum(element_sim)/len(l2)\n",
    "        sd_sim.append(element_sim)\n",
    "    return sum(sd_sim)/len(l1)"
   ]
  },
  {
   "cell_type": "markdown",
   "metadata": {},
   "source": [
    "In the cell below, I compare two keyword extraction methods against each other by taking the average of the evaluation scores calculated between the lists of keywords for each document."
   ]
  },
  {
   "cell_type": "code",
   "execution_count": 34,
   "metadata": {},
   "outputs": [],
   "source": [
    "def compare(m1, m2):\n",
    "    \"\"\"\n",
    "    Compares two keyword extraction methods.\n",
    "    \"\"\"\n",
    "    scores = []\n",
    "    for a, b in zip(m1, m2):\n",
    "        if len(a) > 0:\n",
    "            scores.append(evaluate(a, b))\n",
    "    return sum(scores)/len(scores)"
   ]
  },
  {
   "cell_type": "markdown",
   "metadata": {},
   "source": [
    "Compare methods based on the number of keywords returned by Affinity Propagation:"
   ]
  },
  {
   "cell_type": "code",
   "execution_count": 35,
   "metadata": {},
   "outputs": [],
   "source": [
    "ap_rake = compare(ap_kw, rake_ap) # AP vs. rake\n",
    "ap_tr = compare(ap_kw, tr_ap) # AP vs. textrank\n",
    "km_rake_ap = compare(kmeans_kw_ap, rake_ap) # k-means (AP) vs. rake (AP)\n",
    "km_tr_ap = compare(kmeans_kw_ap, tr_ap) # k-means (AP) vs. textrank (AP)\n",
    "rake_tr_ap = compare(rake_ap, tr_ap) # rake (AP) vs. textrank (AP)"
   ]
  },
  {
   "cell_type": "code",
   "execution_count": 36,
   "metadata": {},
   "outputs": [
    {
     "name": "stdout",
     "output_type": "stream",
     "text": [
      "AP vs. RAKE: 0.4\n",
      "AP vs. TextRank: 0.4\n",
      "K-Means vs. RAKE: 0.38\n",
      "K-Means vs. TextRank: 0.4\n",
      "RAKE vs. TextRank: 0.52\n"
     ]
    }
   ],
   "source": [
    "print(\"AP vs. RAKE: \" + str(round(ap_rake, 2)))\n",
    "print(\"AP vs. TextRank: \" + str(round(ap_tr, 2)))\n",
    "print(\"K-Means vs. RAKE: \" + str(round(km_rake_ap, 2)))\n",
    "print(\"K-Means vs. TextRank: \" + str(round(km_tr_ap, 2)))\n",
    "print(\"RAKE vs. TextRank: \" + str(round(rake_tr_ap, 2)))"
   ]
  },
  {
   "cell_type": "markdown",
   "metadata": {},
   "source": [
    "Compare methods based on the number of keywords returned by Mean Shift:"
   ]
  },
  {
   "cell_type": "code",
   "execution_count": 37,
   "metadata": {},
   "outputs": [],
   "source": [
    "ms_rake = compare(ms_kw, rake_ms) # mean shift vs. rake\n",
    "ms_tr = compare(ms_kw, tr_ms) # mean shift vs. textrank\n",
    "km_rake_ms = compare(kmeans_kw_ms, rake_ms) # k-means (MS) vs. rake (MS)\n",
    "km_tr_ms = compare(kmeans_kw_ms, tr_ms) # k-means (MS) vs. textrank (MS)\n",
    "rake_tr_ms = compare(rake_ms, tr_ms) # rake (MS) vs. textrank (MS)"
   ]
  },
  {
   "cell_type": "code",
   "execution_count": 38,
   "metadata": {},
   "outputs": [
    {
     "name": "stdout",
     "output_type": "stream",
     "text": [
      "MS vs. RAKE: 0.3\n",
      "MS vs. TextRank: 0.33\n",
      "K-Means vs. RAKE: 0.38\n",
      "K-Means vs. TextRank: 0.41\n",
      "RAKE vs. TextRank: 0.52\n"
     ]
    }
   ],
   "source": [
    "print(\"MS vs. RAKE: \" + str(round(ms_rake, 2)))\n",
    "print(\"MS vs. TextRank: \" + str(round(ms_tr, 2)))\n",
    "print(\"K-Means vs. RAKE: \" + str(round(km_rake_ms, 2)))\n",
    "print(\"K-Means vs. TextRank: \" + str(round(km_tr_ms, 2)))\n",
    "print(\"RAKE vs. TextRank: \" + str(round(rake_tr_ms, 2)))"
   ]
  },
  {
   "cell_type": "markdown",
   "metadata": {},
   "source": [
    "Plot results:"
   ]
  },
  {
   "cell_type": "code",
   "execution_count": 39,
   "metadata": {},
   "outputs": [
    {
     "data": {
      "image/png": "[encoded data removed]",
      "text/plain": [
       "<Figure size 1440x504 with 2 Axes>"
      ]
     },
     "metadata": {
      "needs_background": "light"
     },
     "output_type": "display_data"
    }
   ],
   "source": [
    "fig, (ax1, ax2) = plt.subplots(1,2, figsize = (20,7), sharey=True)\n",
    "\n",
    "x_ap = ['AP & RAKE(AP)', 'AP & TR(AP)', 'KM(AP) & RAKE(AP)', 'KM(AP) & TR(AP)', 'RAKE(AP) & TR(AP)']\n",
    "x_ap_pos = [i for i, _ in enumerate(x_ap)]\n",
    "y_ap = [ap_rake, ap_tr, km_rake_ap, km_tr_ap, rake_tr_ap]\n",
    "\n",
    "ax1.bar(x_ap, y_ap, color='orange')\n",
    "ax1.set_xlabel(\"Comparison\")\n",
    "ax1.set_ylabel(\"Average SD Coeff.\")\n",
    "ax1.set_title(\"Method Comparison, #keywords based on results from Affinity Propagation\")\n",
    "\n",
    "x_ms = ['MS & RAKE(MS)', 'MS & TR(MS)', 'KM(MS) & RAKE(MS)', 'KM(MS) & TR(MS)', 'RAKE(MS) & TR(MS)']\n",
    "x_ms_pos = [i for i, _ in enumerate(x_ms)]\n",
    "y_ms = [ms_rake, ms_tr, km_rake_ms, km_tr_ms, rake_tr_ms]\n",
    "\n",
    "ax2.bar(x_ms, y_ms, color='purple')\n",
    "ax2.set_xlabel(\"Comparison\")\n",
    "ax2.set_ylabel(\"Average SD Coeff.\")\n",
    "ax2.set_title(\"Method Comparison, #keywords based on results from Mean Shift\")\n",
    "\n",
    "plt.show()"
   ]
  },
  {
   "cell_type": "markdown",
   "metadata": {},
   "source": [
    "In both scenarios, RAKE and TextRank have the highest SD similarity score (0.52 in both graphs) mostly because both are robust keyword extraction algorithms with high performance on average. K-Means (AP) scored 0.38 with RAKE (AP) and 0.4 with TextRank (AP), and K-Means (MS) scored 0.38 with RAKE (MS) and 0.41 with TextRank (MS), resulting in an average score of 0.39. Affinity Propagation scored 0.4 with both RAKE and TextRank, resulting in an average score of 0.4. Mean Shift scored 0.3 with RAKE and 0.33 with TextRank, resulting in an average score of 0.32.\n",
    "\n",
    "These numerical results imply that all three clustering algorithms have questionable performance compared to RAKE and TextRank on keyword extraction based on the 106 NLP paper abstracts. Mean Shift performed much worse than K-Means and Affinity Propagation. Upon further investigation, I discovered that this is probably because the embedding dimension of 300 is too high for Mean Shift to work effectively. According to [A review of mean-shift algorithms for clustering](https://arxiv.org/abs/1503.00687) by Miguel Á. Carreira-Perpiñán (included in [*Handbook of Cluster Analysis*](https://www.taylorfrancis.com/books/e/9780429185472), edited by Christian\n",
    "Hennig, Marina Meila, Fionn Murtagh, and Roberto Rocci), the kernel density estimator applied by the Mean Shift algorithm would break down in higher dimensions (page 7 of the paper)."
   ]
  },
  {
   "cell_type": "markdown",
   "metadata": {},
   "source": [
    "# Future work"
   ]
  },
  {
   "cell_type": "markdown",
   "metadata": {},
   "source": [
    "More work could be done in the following directions:\n",
    "- **Data**: Scale up by using a larger corpus of documents, possibly of a genre different from scholarly writing. This may cause the clustering algorithms to behave differently from what was seen above.\n",
    "- **Handling OOV words**: Train a model for GloVe that predicts embeddings for OOV words and compares the results to fastText embeddings. This would require experimenting with different sets of training data and hyperparameters to find the optimal combination.\n",
    "- **Clustering algorithms**: Further investigate if there is a way to extract centroids from results returned by hierarchical clustering. Apply clustering algorithms to similarity matrices and compare to when they are directly applied to word embeddings (in [scikit-learn clustering](https://scikit-learn.org/stable/modules/clustering.html), only AffinityPropagation, SpectralClustering, and DBSCAN accept similarity matrices as input).\n",
    "- **Evaluation metric**: Develop a more robust metric for evaluating the similarity between two lists of strings and another for comparing two keyword extraction methods. Evaluate against more existing keyword extraction methods."
   ]
  }
 ],
 "metadata": {
  "kernelspec": {
   "display_name": "Python 3",
   "language": "python",
   "name": "python3"
  },
  "language_info": {
   "codemirror_mode": {
    "name": "ipython",
    "version": 3
   },
   "file_extension": ".py",
   "mimetype": "text/x-python",
   "name": "python",
   "nbconvert_exporter": "python",
   "pygments_lexer": "ipython3",
   "version": "3.8.3"
  }
 },
 "nbformat": 4,
 "nbformat_minor": 4
}
